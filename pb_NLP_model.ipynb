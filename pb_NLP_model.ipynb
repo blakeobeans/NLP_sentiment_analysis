{
  "nbformat": 4,
  "nbformat_minor": 0,
  "metadata": {
    "kernelspec": {
      "name": "python3",
      "display_name": "Python 3"
    },
    "colab": {
      "name": "NLP model.ipynb",
      "provenance": [],
      "collapsed_sections": []
    },
    "accelerator": "GPU"
  },
  "cells": [
    {
      "cell_type": "markdown",
      "metadata": {
        "id": "jx3A4jnKSQk_",
        "colab_type": "text"
      },
      "source": [
        "# sentiment analysis with transfer learning using fastai"
      ]
    },
    {
      "cell_type": "markdown",
      "metadata": {
        "id": "7JUf2c-_lE9y",
        "colab_type": "text"
      },
      "source": [
        "In this computational essay I perform a **sentiment analysis**, also known as a **text classification problem**. Sentiment analysis is an application in the broader field of **natural language processing** (NLP) in the even broader field of **deep learning**. \n",
        "\n",
        "The goal of this essay is to explore the conceptual and programmatic framework for performing similar NLP problems using [fastai](https://www.fast.ai/). It assumes some basic understanding of the terminology and ideas behind deep learning.\n",
        "\n",
        "For this project I have amassed my own data set which consists of typed notes provided by a potential customer to a sales professional while scheduling an estimate appointment. The data was joined with a binary indicator of whether a sale was made within the next 60 days. \n",
        "\n",
        "This essay proceeds as follows:\n",
        "\n",
        "1.   Preparing the data  \n",
        "    i.   Importing the Data  \n",
        "    ii.  Data Partitioning  \n",
        "    iii. Data Upsampling  \n",
        "    iv.  Transforming Data\n",
        "2.   Training the Models  \n",
        "    i.  The Language Model  \n",
        "    ii. The Classification Model\n",
        "3.   Model Performance  \n",
        "    i.   Confusion Matrix  \n",
        "    ii.  ROC Curve  \n",
        "    iii. Prediction\n",
        "\n"
      ]
    },
    {
      "cell_type": "markdown",
      "metadata": {
        "id": "pSfx1js5REy5",
        "colab_type": "text"
      },
      "source": [
        "# Preparing the Data"
      ]
    },
    {
      "cell_type": "markdown",
      "metadata": {
        "id": "TrnF_4SxvAWL",
        "colab_type": "text"
      },
      "source": [
        "##Importing the Data"
      ]
    },
    {
      "cell_type": "markdown",
      "metadata": {
        "id": "PM0INNd4OSS1",
        "colab_type": "text"
      },
      "source": [
        "The data is exported from a proprietary CRM database. Because the database lies under a software GUI the options for export are limited by the overlaying application. Therefore the data has been exported in a structured report format in a spreadsheet. Excel macros have been used to automate the scraping and cleaning of the data. \n"
      ]
    },
    {
      "cell_type": "markdown",
      "metadata": {
        "id": "OqBHuDfHvCPj",
        "colab_type": "text"
      },
      "source": [
        "The full data set will be imported from my personal Google Drive account which uses two-factor authentication and is therefore not accessible for replication. A sample of the data has been included in this project's GitHub repo at https://github.com/blakeobeans.\n",
        "\n",
        "The analysis will be carried out in a Google Colab notebook which runs Python 3 with a GPU accelerator."
      ]
    },
    {
      "cell_type": "code",
      "metadata": {
        "id": "iATBFA-oSQlE",
        "colab_type": "code",
        "colab": {}
      },
      "source": [
        "from fastai.text import *"
      ],
      "execution_count": 0,
      "outputs": []
    },
    {
      "cell_type": "code",
      "metadata": {
        "id": "GGLGBG3fSQlC",
        "colab_type": "code",
        "colab": {}
      },
      "source": [
        "%reload_ext autoreload\n",
        "%autoreload 2\n",
        "%matplotlib inline"
      ],
      "execution_count": 0,
      "outputs": []
    },
    {
      "cell_type": "code",
      "metadata": {
        "id": "Mc_AnB1v8yf9",
        "colab_type": "code",
        "colab": {}
      },
      "source": [
        "import warnings; warnings.simplefilter('ignore')"
      ],
      "execution_count": 0,
      "outputs": []
    },
    {
      "cell_type": "code",
      "metadata": {
        "id": "gZ07WHf0pAt3",
        "colab_type": "code",
        "outputId": "be02575d-c72d-4a4e-c28e-993eb9bcba54",
        "colab": {
          "base_uri": "https://localhost:8080/",
          "height": 309
        }
      },
      "source": [
        "from google.colab import drive\n",
        "drive.mount('/content/drive')\n",
        "path = '/content/drive/My Drive/Work/Data Science/nlp project/transformed data'\n",
        "os.chdir(path)\n",
        "df=pd.read_csv(\"data.csv\")\n",
        "df.head()"
      ],
      "execution_count": 4,
      "outputs": [
        {
          "output_type": "stream",
          "text": [
            "Go to this URL in a browser: https://accounts.google.com/o/oauth2/auth?client_id=947318989803-6bn6qk8qdgf4n4g3pfee6491hc0brc4i.apps.googleusercontent.com&redirect_uri=urn%3aietf%3awg%3aoauth%3a2.0%3aoob&response_type=code&scope=email%20https%3a%2f%2fwww.googleapis.com%2fauth%2fdocs.test%20https%3a%2f%2fwww.googleapis.com%2fauth%2fdrive%20https%3a%2f%2fwww.googleapis.com%2fauth%2fdrive.photos.readonly%20https%3a%2f%2fwww.googleapis.com%2fauth%2fpeopleapi.readonly\n",
            "\n",
            "Enter your authorization code:\n",
            "··········\n",
            "Mounted at /content/drive\n"
          ],
          "name": "stdout"
        },
        {
          "output_type": "execute_result",
          "data": {
            "text/html": [
              "<div>\n",
              "<style scoped>\n",
              "    .dataframe tbody tr th:only-of-type {\n",
              "        vertical-align: middle;\n",
              "    }\n",
              "\n",
              "    .dataframe tbody tr th {\n",
              "        vertical-align: top;\n",
              "    }\n",
              "\n",
              "    .dataframe thead th {\n",
              "        text-align: right;\n",
              "    }\n",
              "</style>\n",
              "<table border=\"1\" class=\"dataframe\">\n",
              "  <thead>\n",
              "    <tr style=\"text-align: right;\">\n",
              "      <th></th>\n",
              "      <th>label</th>\n",
              "      <th>text</th>\n",
              "    </tr>\n",
              "  </thead>\n",
              "  <tbody>\n",
              "    <tr>\n",
              "      <th>0</th>\n",
              "      <td>positive</td>\n",
              "      <td>05/03/16  Mr. called for Alex to give him a c...</td>\n",
              "    </tr>\n",
              "    <tr>\n",
              "      <th>1</th>\n",
              "      <td>positive</td>\n",
              "      <td>Gave verbal quote for new ducting with design...</td>\n",
              "    </tr>\n",
              "    <tr>\n",
              "      <th>2</th>\n",
              "      <td>positive</td>\n",
              "      <td>Q COMPLETE XC16, $13,800 FOLLOW UP WITH CUST ...</td>\n",
              "    </tr>\n",
              "    <tr>\n",
              "      <th>3</th>\n",
              "      <td>positive</td>\n",
              "      <td>Quoted 3250.00 to do dampers with zone board....</td>\n",
              "    </tr>\n",
              "    <tr>\n",
              "      <th>4</th>\n",
              "      <td>positive</td>\n",
              "      <td>sold 3.5 ton 15 seer gaspack for 11,200.00 cu...</td>\n",
              "    </tr>\n",
              "  </tbody>\n",
              "</table>\n",
              "</div>"
            ],
            "text/plain": [
              "      label                                               text\n",
              "0  positive   05/03/16  Mr. called for Alex to give him a c...\n",
              "1  positive   Gave verbal quote for new ducting with design...\n",
              "2  positive   Q COMPLETE XC16, $13,800 FOLLOW UP WITH CUST ...\n",
              "3  positive   Quoted 3250.00 to do dampers with zone board....\n",
              "4  positive   sold 3.5 ton 15 seer gaspack for 11,200.00 cu..."
            ]
          },
          "metadata": {
            "tags": []
          },
          "execution_count": 4
        }
      ]
    },
    {
      "cell_type": "markdown",
      "metadata": {
        "id": "GmrFgC2wQRbG",
        "colab_type": "text"
      },
      "source": [
        "A sample of the data is above. The first column, **label,** indicates whether the sale was successful or not. The second column, **text**, contains the text  of the notes."
      ]
    },
    {
      "cell_type": "markdown",
      "metadata": {
        "id": "TLFf4xzvUQBo",
        "colab_type": "text"
      },
      "source": [
        "## Data Partitioning"
      ]
    },
    {
      "cell_type": "markdown",
      "metadata": {
        "id": "m9TKs6E32HMN",
        "colab_type": "text"
      },
      "source": [
        "The unfortunate nature of a sales call is that there are often more failures than successes. Therefore the data will be **upsampled** (duplicating some positive cases to achieve a 50/50 split)."
      ]
    },
    {
      "cell_type": "code",
      "metadata": {
        "id": "dgeYMpkuLoC2",
        "colab_type": "code",
        "outputId": "49509db0-a564-4ca7-87d6-224a815d66f3",
        "colab": {
          "base_uri": "https://localhost:8080/",
          "height": 68
        }
      },
      "source": [
        "df['label'].value_counts()"
      ],
      "execution_count": 5,
      "outputs": [
        {
          "output_type": "execute_result",
          "data": {
            "text/plain": [
              "negative    1655\n",
              "positive    1067\n",
              "Name: label, dtype: int64"
            ]
          },
          "metadata": {
            "tags": []
          },
          "execution_count": 5
        }
      ]
    },
    {
      "cell_type": "markdown",
      "metadata": {
        "id": "2aW9jvzezoKi",
        "colab_type": "text"
      },
      "source": [
        "The data first needs to be first **partitioned** (ie. split into training and test sets) then upsampled. As an aside: an analysis was first carried out without upsampling. The results were poor- the model was a **naive classifier** meaning that all cases were classified as negative. Then the analysis was carried out with data upsampling but prior to partitioning. This time the model AUC was 99% because the model had seen the exact same data in both the training and test sets. Then, the model upsampled and partitioned. While the language model worked well, and the model had a 70% AUC, the classification model incorrectly predicted negative results with new observations. The final model used stratification but not upsampling, which achieved expected results across all categories."
      ]
    },
    {
      "cell_type": "markdown",
      "metadata": {
        "id": "K4S8Nu7G42w2",
        "colab_type": "text"
      },
      "source": [
        "### UPDATE: DATA IS NOW STRATIFIED RATHER THAN UPSAMPLED. THIS WORKS BETTER."
      ]
    },
    {
      "cell_type": "code",
      "metadata": {
        "id": "5fMKV06Qo7UL",
        "colab_type": "code",
        "colab": {}
      },
      "source": [
        "from sklearn.model_selection import train_test_split\n",
        "\n",
        "train, test = train_test_split(df, stratify = df['label'], test_size=0.2)"
      ],
      "execution_count": 0,
      "outputs": []
    },
    {
      "cell_type": "markdown",
      "metadata": {
        "id": "ugTXlDkEWQut",
        "colab_type": "text"
      },
      "source": [
        "## Transforming the Data"
      ]
    },
    {
      "cell_type": "markdown",
      "metadata": {
        "id": "hpP_upE3TI0i",
        "colab_type": "text"
      },
      "source": [
        "The text classififcation uses two different models: a **learning model** and a **classification model**. Models will be explained in the next section. \n",
        "\n",
        "For each model the data is converted into **databunch** object. It contains everything you need to build the model- variables, labels, etc. "
      ]
    },
    {
      "cell_type": "code",
      "metadata": {
        "colab_type": "code",
        "id": "NMNL1oQfnFu0",
        "colab": {
          "base_uri": "https://localhost:8080/",
          "height": 17
        },
        "outputId": "1863907f-f626-4533-875e-709843ad39c1"
      },
      "source": [
        "data_lm = TextLMDataBunch.from_df(path, train_df = train, valid_df = test) #databunch object for language model"
      ],
      "execution_count": 7,
      "outputs": [
        {
          "output_type": "display_data",
          "data": {
            "text/html": [
              ""
            ],
            "text/plain": [
              "<IPython.core.display.HTML object>"
            ]
          },
          "metadata": {
            "tags": []
          }
        },
        {
          "output_type": "display_data",
          "data": {
            "text/html": [
              ""
            ],
            "text/plain": [
              "<IPython.core.display.HTML object>"
            ]
          },
          "metadata": {
            "tags": []
          }
        }
      ]
    },
    {
      "cell_type": "markdown",
      "metadata": {
        "id": "jfC7hUIocYOu",
        "colab_type": "text"
      },
      "source": [
        "When building the databunch for the classifier, we pass the vocabulary learned in the language model. We also set the **batch size**, which represents how many cases (observations) pass through the model at a time. A larger batch size leads to better approximations of the gradient but is constrained by GPU size."
      ]
    },
    {
      "cell_type": "code",
      "metadata": {
        "id": "08wFGBqy9bKp",
        "colab_type": "code",
        "colab": {
          "base_uri": "https://localhost:8080/",
          "height": 17
        },
        "outputId": "8639c67b-c67d-40f1-c425-b66dfc4473e0"
      },
      "source": [
        "data_clas = TextClasDataBunch.from_df(path, train_df = train, valid_df = test, vocab=data_lm.train_ds.vocab, bs=64) #databunch object for classification model"
      ],
      "execution_count": 8,
      "outputs": [
        {
          "output_type": "display_data",
          "data": {
            "text/html": [
              ""
            ],
            "text/plain": [
              "<IPython.core.display.HTML object>"
            ]
          },
          "metadata": {
            "tags": []
          }
        },
        {
          "output_type": "display_data",
          "data": {
            "text/html": [
              ""
            ],
            "text/plain": [
              "<IPython.core.display.HTML object>"
            ]
          },
          "metadata": {
            "tags": []
          }
        }
      ]
    },
    {
      "cell_type": "markdown",
      "metadata": {
        "id": "opToJ4jpXKUA",
        "colab_type": "text"
      },
      "source": [
        "You only need to build these once. Since it can be timely, it is best practice to save them."
      ]
    },
    {
      "cell_type": "code",
      "metadata": {
        "id": "wt-B9X6ZSQlU",
        "colab_type": "code",
        "colab": {}
      },
      "source": [
        "#saves to existing directory\n",
        "data_lm.save('data_lm_export.pkl')\n",
        "data_clas.save('data_clas_export.pkl')"
      ],
      "execution_count": 0,
      "outputs": []
    },
    {
      "cell_type": "markdown",
      "metadata": {
        "id": "hqWQGORcSQlQ",
        "colab_type": "text"
      },
      "source": [
        "# Training the Models"
      ]
    },
    {
      "cell_type": "markdown",
      "metadata": {
        "id": "ibASrOaqo0d3",
        "colab_type": "text"
      },
      "source": [
        "In fastai, there are three steps to building a sentiment analysis model.  \n",
        " \n",
        "1.   We begin by downloading the pre-trained **AWD-LSTM language model** (*ASGD Weight-Dropped Long Short-Term Memory Networks*). This model was trained on the [WikiText 103 dataset](https://blog.einstein.ai/the-wikitext-long-term-dependency-language-modeling-dataset/) and therefore it basically understands English.\n",
        "2.   We then fit this model to our data. In other words, we feed our data into the existing AWD-LSTM language model, which updates and fine-tunes the parameter values in order to understand the nuances of our data. This process is called **transfer learning**.    \n",
        "3.   We load the **encoder** from the language model into our **classification model**, the *Universal Language Model Fine-tuning for Text Classification* (**ULMFiT**) model. \n",
        "\n",
        "We then measure the accuracy of the classification model on the test data, perform diagnostics, prediction, etc.\n"
      ]
    },
    {
      "cell_type": "markdown",
      "metadata": {
        "id": "MDm1tabAleZA",
        "colab_type": "text"
      },
      "source": [
        "## Model 1- Language Model"
      ]
    },
    {
      "cell_type": "markdown",
      "metadata": {
        "id": "qtCniek9lcNt",
        "colab_type": "text"
      },
      "source": [
        "fastai uses **learners** to train language models, in this case *language_model_learner()*. \n",
        "\n",
        "Inputs to the function are the databunch, the AWD-LSTM architecture, *drop_mult* and optional *callbacks_fns*.\n",
        "\n",
        "*Drop_mult* is a method of regularization commonly known as **drop_out**. Drop out randomly resets some parameters in the layer's matrix so that no layer memorizes any of the inputs. The recommended default is 0.5. If the model is overfitting early in the training then drop out can be increased. \n",
        "\n",
        "*Callbacks* control how the model is trained. *EarlyStoppingCallback* stops training the model when a specified accuracy metric is maximized or minimized. In this case, the model will stop when **validation error** (the error in prediction on the test data) is minimized within a range set by the other methods of the callback function. This will help prevent overfitting on the test data. "
      ]
    },
    {
      "cell_type": "code",
      "metadata": {
        "id": "VkLCHKBl-DCD",
        "colab_type": "code",
        "colab": {
          "base_uri": "https://localhost:8080/",
          "height": 34
        },
        "outputId": "186ddc83-27b4-442c-d49d-4012c6c546b3"
      },
      "source": [
        "from fastai.callbacks import *\n",
        "learn = language_model_learner(data_lm, arch=AWD_LSTM, drop_mult=.5, metrics = [accuracy], callback_fns=[partial(EarlyStoppingCallback, monitor='valid_loss', min_delta=0.01, patience=3)]) #AWD_LSTM downloaded from AWS"
      ],
      "execution_count": 10,
      "outputs": [
        {
          "output_type": "stream",
          "text": [
            "Downloading https://s3.amazonaws.com/fast-ai-modelzoo/wt103-fwd\n"
          ],
          "name": "stdout"
        },
        {
          "output_type": "display_data",
          "data": {
            "text/html": [
              ""
            ],
            "text/plain": [
              "<IPython.core.display.HTML object>"
            ]
          },
          "metadata": {
            "tags": []
          }
        }
      ]
    },
    {
      "cell_type": "markdown",
      "metadata": {
        "id": "pgvIkjJN6uPg",
        "colab_type": "text"
      },
      "source": [
        "Prior to training our model, we set the **learning rate**. The learning rate sets the step size on the gradient descent algorithm. Larger learning rates may overshoot the minimum while small learning rates are too slow to descend.\n",
        "\n",
        "The *learning rate finder* will help suggest potential learning rates. It works by increasing the learning rate after each batch while measuring the loss or error. "
      ]
    },
    {
      "cell_type": "code",
      "metadata": {
        "id": "YJUevAQ4nGfK",
        "colab_type": "code",
        "outputId": "9b4a4b5e-c410-436e-edf7-a37ed7840b35",
        "colab": {
          "base_uri": "https://localhost:8080/",
          "height": 330
        }
      },
      "source": [
        "learn.lr_find()\n",
        "learn.recorder.plot(suggestion=True) "
      ],
      "execution_count": 11,
      "outputs": [
        {
          "output_type": "display_data",
          "data": {
            "text/html": [
              ""
            ],
            "text/plain": [
              "<IPython.core.display.HTML object>"
            ]
          },
          "metadata": {
            "tags": []
          }
        },
        {
          "output_type": "stream",
          "text": [
            "LR Finder is complete, type {learner_name}.recorder.plot() to see the graph.\n",
            "Min numerical gradient: 5.75E-02\n",
            "Min loss divided by 10: 7.59E-02\n"
          ],
          "name": "stdout"
        },
        {
          "output_type": "display_data",
          "data": {
            "image/png": "[encoded data removed]",
            "text/plain": [
              "<Figure size 432x288 with 1 Axes>"
            ]
          },
          "metadata": {
            "tags": []
          }
        }
      ]
    },
    {
      "cell_type": "markdown",
      "metadata": {
        "id": "sgK9Qw-gebv4",
        "colab_type": "text"
      },
      "source": [
        "The model is \"learning\" with LR's between 1e-03 to 1. However, we don't want to pick the minimum as our learning rate because we can potentially overshoot to the steep edge on the right side. Instead, we want to try different learning rates along the slope up to the minimum. There are various rules of thumb but it is recommended to try different LR's and use what best reduces validation error."
      ]
    },
    {
      "cell_type": "markdown",
      "metadata": {
        "id": "ixvoAi9tvvyf",
        "colab_type": "text"
      },
      "source": [
        "***Now we're ready to train the model.*** fastai recommends using the *.fit_one_cycle()* method which is both fast and more accurate than just using *.fit()*. \n",
        "\n",
        "*cycle_length* is the number of **epochs** or full runthroughs of the data. After each cycle the parameters are adjusted according to the loss function. Because I've set the callback in the learner to stop when validation loss is minimized, the exact choice of cycle length is not important- it just needs to be long enough to minimize the *valid_loss*.\n",
        "\n",
        "*max_lr* is the learning rate selected in the previous section. Because fastai adjusts the learning rate within each cycle (called **cyclical learning rates**), the learning rate we select is actually the maximum used in training.\n",
        "\n",
        "Closely related to the learning rate is the **momentum** at which the learning rate adjusts between its minimum and its maximum in a given cycle. For a high (fast) learning rates, we want slower momentum and vice versa. *Moms* is set at between .8 and .7.\n",
        "\n",
        "Finally, our **weight decay** is a method of regularization applied as a coefficient to the loss function. It is relatively small (0 is the max). Smaller weight decay is compatible with shallower networks. This metric may need to be adjusted and experimentation is encouraged. The ideal weight decay can usually be discerned after only a few epochs.\n",
        "\n",
        "Callback *SaveModelCallback* to save model at every epoch. It will save in the working directory and the files can be quite large (300 MB each)!"
      ]
    },
    {
      "cell_type": "code",
      "metadata": {
        "id": "C2rYb9O9lwRz",
        "colab_type": "code",
        "outputId": "617a691b-003e-4f0a-9cfc-d8199136049a",
        "colab": {
          "base_uri": "https://localhost:8080/",
          "height": 546
        }
      },
      "source": [
        "learn.purge() #resets model. Use when testing various LR's and WD's\n",
        "learn.fit_one_cycle(cyc_len = 20, max_lr = 1e-2, wd=1e-4, moms=(0.8, 0.7), callbacks = [SaveModelCallback(learn, every='epoch', monitor='valid_loss')])"
      ],
      "execution_count": 13,
      "outputs": [
        {
          "output_type": "display_data",
          "data": {
            "text/html": [
              "\n",
              "    <div>\n",
              "        <style>\n",
              "            /* Turns off some styling */\n",
              "            progress {\n",
              "                /* gets rid of default border in Firefox and Opera. */\n",
              "                border: none;\n",
              "                /* Needs to be in here for Safari polyfill so background images work as expected. */\n",
              "                background-size: auto;\n",
              "            }\n",
              "            .progress-bar-interrupted, .progress-bar-interrupted::-webkit-progress-bar {\n",
              "                background: #F44336;\n",
              "            }\n",
              "        </style>\n",
              "      <progress value='14' class='' max='20', style='width:300px; height:20px; vertical-align: middle;'></progress>\n",
              "      70.00% [14/20 04:39<01:59]\n",
              "    </div>\n",
              "    \n",
              "<table border=\"1\" class=\"dataframe\">\n",
              "  <thead>\n",
              "    <tr style=\"text-align: left;\">\n",
              "      <th>epoch</th>\n",
              "      <th>train_loss</th>\n",
              "      <th>valid_loss</th>\n",
              "      <th>accuracy</th>\n",
              "      <th>time</th>\n",
              "    </tr>\n",
              "  </thead>\n",
              "  <tbody>\n",
              "    <tr>\n",
              "      <td>0</td>\n",
              "      <td>5.612532</td>\n",
              "      <td>5.080757</td>\n",
              "      <td>0.186851</td>\n",
              "      <td>00:14</td>\n",
              "    </tr>\n",
              "    <tr>\n",
              "      <td>1</td>\n",
              "      <td>5.007787</td>\n",
              "      <td>4.125484</td>\n",
              "      <td>0.250873</td>\n",
              "      <td>00:14</td>\n",
              "    </tr>\n",
              "    <tr>\n",
              "      <td>2</td>\n",
              "      <td>4.371666</td>\n",
              "      <td>3.585626</td>\n",
              "      <td>0.316660</td>\n",
              "      <td>00:14</td>\n",
              "    </tr>\n",
              "    <tr>\n",
              "      <td>3</td>\n",
              "      <td>3.868594</td>\n",
              "      <td>3.301912</td>\n",
              "      <td>0.349777</td>\n",
              "      <td>00:14</td>\n",
              "    </tr>\n",
              "    <tr>\n",
              "      <td>4</td>\n",
              "      <td>3.497864</td>\n",
              "      <td>3.142801</td>\n",
              "      <td>0.364387</td>\n",
              "      <td>00:14</td>\n",
              "    </tr>\n",
              "    <tr>\n",
              "      <td>5</td>\n",
              "      <td>3.233757</td>\n",
              "      <td>3.062544</td>\n",
              "      <td>0.376765</td>\n",
              "      <td>00:14</td>\n",
              "    </tr>\n",
              "    <tr>\n",
              "      <td>6</td>\n",
              "      <td>3.027821</td>\n",
              "      <td>3.000098</td>\n",
              "      <td>0.382792</td>\n",
              "      <td>00:13</td>\n",
              "    </tr>\n",
              "    <tr>\n",
              "      <td>7</td>\n",
              "      <td>2.872311</td>\n",
              "      <td>2.975277</td>\n",
              "      <td>0.387804</td>\n",
              "      <td>00:13</td>\n",
              "    </tr>\n",
              "    <tr>\n",
              "      <td>8</td>\n",
              "      <td>2.756453</td>\n",
              "      <td>2.961407</td>\n",
              "      <td>0.391822</td>\n",
              "      <td>00:14</td>\n",
              "    </tr>\n",
              "    <tr>\n",
              "      <td>9</td>\n",
              "      <td>2.656314</td>\n",
              "      <td>2.954492</td>\n",
              "      <td>0.392512</td>\n",
              "      <td>00:13</td>\n",
              "    </tr>\n",
              "    <tr>\n",
              "      <td>10</td>\n",
              "      <td>2.568259</td>\n",
              "      <td>2.946343</td>\n",
              "      <td>0.391782</td>\n",
              "      <td>00:13</td>\n",
              "    </tr>\n",
              "    <tr>\n",
              "      <td>11</td>\n",
              "      <td>2.497343</td>\n",
              "      <td>2.943895</td>\n",
              "      <td>0.395982</td>\n",
              "      <td>00:14</td>\n",
              "    </tr>\n",
              "    <tr>\n",
              "      <td>12</td>\n",
              "      <td>2.436960</td>\n",
              "      <td>2.943643</td>\n",
              "      <td>0.396347</td>\n",
              "      <td>00:13</td>\n",
              "    </tr>\n",
              "    <tr>\n",
              "      <td>13</td>\n",
              "      <td>2.398358</td>\n",
              "      <td>2.944180</td>\n",
              "      <td>0.397139</td>\n",
              "      <td>00:13</td>\n",
              "    </tr>\n",
              "  </tbody>\n",
              "</table><p>\n",
              "\n",
              "    <div>\n",
              "        <style>\n",
              "            /* Turns off some styling */\n",
              "            progress {\n",
              "                /* gets rid of default border in Firefox and Opera. */\n",
              "                border: none;\n",
              "                /* Needs to be in here for Safari polyfill so background images work as expected. */\n",
              "                background-size: auto;\n",
              "            }\n",
              "            .progress-bar-interrupted, .progress-bar-interrupted::-webkit-progress-bar {\n",
              "                background: #F44336;\n",
              "            }\n",
              "        </style>\n",
              "      <progress value='11' class='' max='11', style='width:300px; height:20px; vertical-align: middle;'></progress>\n",
              "      100.00% [11/11 00:01<00:00]\n",
              "    </div>\n",
              "    "
            ],
            "text/plain": [
              "<IPython.core.display.HTML object>"
            ]
          },
          "metadata": {
            "tags": []
          }
        },
        {
          "output_type": "stream",
          "text": [
            "Epoch 14: early stopping\n"
          ],
          "name": "stdout"
        }
      ]
    },
    {
      "cell_type": "markdown",
      "metadata": {
        "id": "SWIyXSsk8Avl",
        "colab_type": "text"
      },
      "source": [
        "The model stopped early at epoch 13 because *valid_loss* began to increase. This indicates that the model is beginning to overfit the training data. The early stopping rule does not exactly minimize the validation loss, rather, it stops when it begins to increase by a certain amount. This is evident as the lowest validation loss is actually in epoch 12. We'll save that model as our best language model so far. "
      ]
    },
    {
      "cell_type": "code",
      "metadata": {
        "id": "NsGTj4rC7krT",
        "colab_type": "code",
        "colab": {}
      },
      "source": [
        "%%capture\n",
        "learn.load(\"bestmodel_12\")\n",
        "learn.save(\"learner_one_layer\", return_path = False) #save previous run"
      ],
      "execution_count": 0,
      "outputs": []
    },
    {
      "cell_type": "markdown",
      "metadata": {
        "id": "WTJvuJsjXxdB",
        "colab_type": "text"
      },
      "source": [
        "Once we train our model, we may want to fine-tune it by **un-freezing** some or all of the deeper layers. We typically don't need to do a lot of parameter adjustment on the deeper layers because the language model is pre-trained through transfer learning. To use an analogy, the pre-trained deeper layers in the language model shouldn't \"learn\" that much more about English from our data specifically. It is best practice to use **discriminative learning rates** in training the un-frozen model. DLR's use smaller learning rates for deeper layers because they don't need much adjustment and vice versa.  \n",
        "\n"
      ]
    },
    {
      "cell_type": "code",
      "metadata": {
        "id": "KTka1aKVWRpH",
        "colab_type": "code",
        "outputId": "354e99b9-9aed-42d0-bed1-0847a4b69ed0",
        "colab": {
          "base_uri": "https://localhost:8080/",
          "height": 236
        }
      },
      "source": [
        "learn.unfreeze()\n",
        "learn.fit_one_cycle(20, slice(1e-4, 1e-1), wd=1e-4, moms=(0.8, 0.7), callbacks = [SaveModelCallback(learn, every='epoch', monitor='valid_loss')])"
      ],
      "execution_count": 15,
      "outputs": [
        {
          "output_type": "display_data",
          "data": {
            "text/html": [
              "\n",
              "    <div>\n",
              "        <style>\n",
              "            /* Turns off some styling */\n",
              "            progress {\n",
              "                /* gets rid of default border in Firefox and Opera. */\n",
              "                border: none;\n",
              "                /* Needs to be in here for Safari polyfill so background images work as expected. */\n",
              "                background-size: auto;\n",
              "            }\n",
              "            .progress-bar-interrupted, .progress-bar-interrupted::-webkit-progress-bar {\n",
              "                background: #F44336;\n",
              "            }\n",
              "        </style>\n",
              "      <progress value='4' class='' max='20', style='width:300px; height:20px; vertical-align: middle;'></progress>\n",
              "      20.00% [4/20 01:17<05:09]\n",
              "    </div>\n",
              "    \n",
              "<table border=\"1\" class=\"dataframe\">\n",
              "  <thead>\n",
              "    <tr style=\"text-align: left;\">\n",
              "      <th>epoch</th>\n",
              "      <th>train_loss</th>\n",
              "      <th>valid_loss</th>\n",
              "      <th>accuracy</th>\n",
              "      <th>time</th>\n",
              "    </tr>\n",
              "  </thead>\n",
              "  <tbody>\n",
              "    <tr>\n",
              "      <td>0</td>\n",
              "      <td>2.366554</td>\n",
              "      <td>2.931534</td>\n",
              "      <td>0.397240</td>\n",
              "      <td>00:18</td>\n",
              "    </tr>\n",
              "    <tr>\n",
              "      <td>1</td>\n",
              "      <td>2.386893</td>\n",
              "      <td>2.955007</td>\n",
              "      <td>0.395455</td>\n",
              "      <td>00:18</td>\n",
              "    </tr>\n",
              "    <tr>\n",
              "      <td>2</td>\n",
              "      <td>2.458000</td>\n",
              "      <td>3.011015</td>\n",
              "      <td>0.386546</td>\n",
              "      <td>00:18</td>\n",
              "    </tr>\n",
              "    <tr>\n",
              "      <td>3</td>\n",
              "      <td>2.502766</td>\n",
              "      <td>3.002721</td>\n",
              "      <td>0.395617</td>\n",
              "      <td>00:18</td>\n",
              "    </tr>\n",
              "  </tbody>\n",
              "</table><p>\n",
              "\n",
              "    <div>\n",
              "        <style>\n",
              "            /* Turns off some styling */\n",
              "            progress {\n",
              "                /* gets rid of default border in Firefox and Opera. */\n",
              "                border: none;\n",
              "                /* Needs to be in here for Safari polyfill so background images work as expected. */\n",
              "                background-size: auto;\n",
              "            }\n",
              "            .progress-bar-interrupted, .progress-bar-interrupted::-webkit-progress-bar {\n",
              "                background: #F44336;\n",
              "            }\n",
              "        </style>\n",
              "      <progress value='11' class='' max='11', style='width:300px; height:20px; vertical-align: middle;'></progress>\n",
              "      100.00% [11/11 00:01<00:00]\n",
              "    </div>\n",
              "    "
            ],
            "text/plain": [
              "<IPython.core.display.HTML object>"
            ]
          },
          "metadata": {
            "tags": []
          }
        },
        {
          "output_type": "stream",
          "text": [
            "Epoch 4: early stopping\n"
          ],
          "name": "stdout"
        }
      ]
    },
    {
      "cell_type": "markdown",
      "metadata": {
        "id": "IG6UY_scCmcE",
        "colab_type": "text"
      },
      "source": [
        "We can see we have the lowest *valid_loss* in epoch 0. Since it's the best model thus far, we'll load this model then save it as our **encoder** portion of the classifier model. Programmatically, the entire point of training so far has been to create this encoder."
      ]
    },
    {
      "cell_type": "code",
      "metadata": {
        "id": "3nxwDG-hCvLh",
        "colab_type": "code",
        "colab": {}
      },
      "source": [
        "%%capture\n",
        "learn.load(\"bestmodel_0\")\n",
        "learn.save(\"learner_multi_layer\", return_path = False)\n",
        "learn.save_encoder('ft_enc')"
      ],
      "execution_count": 0,
      "outputs": []
    },
    {
      "cell_type": "markdown",
      "metadata": {
        "id": "ccgN7CoBuD7j",
        "colab_type": "text"
      },
      "source": [
        "We'll also export the language model for production purposes."
      ]
    },
    {
      "cell_type": "code",
      "metadata": {
        "id": "hnvh1D1PuJDL",
        "colab_type": "code",
        "colab": {}
      },
      "source": [
        "learn.export('language_model.pkl')"
      ],
      "execution_count": 0,
      "outputs": []
    },
    {
      "cell_type": "markdown",
      "metadata": {
        "id": "_ClpD9BUuKXd",
        "colab_type": "text"
      },
      "source": [
        "Now we can see how well our language model is predicting the next word in the sentence about 40% of the time. Lowering *temperature* will make the texts less randomized."
      ]
    },
    {
      "cell_type": "code",
      "metadata": {
        "id": "0Wi4dAbiuJTc",
        "colab_type": "code",
        "outputId": "dada56c7-f004-4fd7-a97b-809f0ec50e26",
        "colab": {
          "base_uri": "https://localhost:8080/",
          "height": 34
        }
      },
      "source": [
        "learn.predict(\"interested in\", n_words=30, temperature=0.5)"
      ],
      "execution_count": 18,
      "outputs": [
        {
          "output_type": "execute_result",
          "data": {
            "text/plain": [
              "'interested in HVAC replacement . HVAC is 30 y / o , Cust states that she is looking for something more efficient . Home is single story ,'"
            ]
          },
          "metadata": {
            "tags": []
          },
          "execution_count": 18
        }
      ]
    },
    {
      "cell_type": "markdown",
      "metadata": {
        "id": "ms9HeXSJBG6V",
        "colab_type": "text"
      },
      "source": [
        "## Model 2- Classification Model"
      ]
    },
    {
      "cell_type": "markdown",
      "metadata": {
        "id": "Mr46pIa3mf0h",
        "colab_type": "text"
      },
      "source": [
        "Now we're ready to build our ULMFiT classification model which predicts whether a job is sold given the notes on the sales call. "
      ]
    },
    {
      "cell_type": "markdown",
      "metadata": {
        "id": "QJO4t2Jglq8M",
        "colab_type": "text"
      },
      "source": [
        "### Set-up (classifier)"
      ]
    },
    {
      "cell_type": "markdown",
      "metadata": {
        "id": "STabhUaTio1J",
        "colab_type": "text"
      },
      "source": [
        "Recall that we set up the databunch, *data_clas*, already. The databunch pre-processes the original data through **tokenization**. Tokenization slightly restructures the English language. Most tokens are just full words, but also include punctuation and document formatting (whose tokens start with [xx___](https://docs.fast.ai/text.transform.html#Tokenizer).)"
      ]
    },
    {
      "cell_type": "code",
      "metadata": {
        "id": "OLiIR4djifUW",
        "colab_type": "code",
        "outputId": "f6015231-7ee4-4ece-bade-7c94283b2faa",
        "colab": {
          "base_uri": "https://localhost:8080/",
          "height": 97
        }
      },
      "source": [
        "data_clas.show_batch(1)\n",
        "#data_clas.vocab.itos[:20] #top 20 words"
      ],
      "execution_count": 19,
      "outputs": [
        {
          "output_type": "display_data",
          "data": {
            "text/html": [
              "<table border=\"1\" class=\"dataframe\">\n",
              "  <thead>\n",
              "    <tr style=\"text-align: right;\">\n",
              "      <th>text</th>\n",
              "      <th>target</th>\n",
              "    </tr>\n",
              "  </thead>\n",
              "  <tbody>\n",
              "    <tr>\n",
              "      <td>xxbos xxmaj tech - lead xxmaj kody . xxmaj estimate for replacement of 3rd system in customer 's guest house . xxup kjb5 / 22 / 19 xxmaj ac tune up x2 complete , checked filter , tested refrigerant , tested temp split , tested amps , tested mfds , tested volts , tested electrical connections , checked for loose connections , visually inspected contactor , verified condensate draining ,</td>\n",
              "      <td>positive</td>\n",
              "    </tr>\n",
              "  </tbody>\n",
              "</table>"
            ],
            "text/plain": [
              "<IPython.core.display.HTML object>"
            ]
          },
          "metadata": {
            "tags": []
          }
        }
      ]
    },
    {
      "cell_type": "markdown",
      "metadata": {
        "id": "_hLFMR418ny-",
        "colab_type": "text"
      },
      "source": [
        "**Numericialization** replaces the tokens with numeric id's. "
      ]
    },
    {
      "cell_type": "code",
      "metadata": {
        "id": "dYinZF8c8o7I",
        "colab_type": "code",
        "outputId": "076a34c4-dbf1-4127-a203-d352046c3197",
        "colab": {
          "base_uri": "https://localhost:8080/",
          "height": 34
        }
      },
      "source": [
        "data_clas.train_ds[0][0].data[:10]"
      ],
      "execution_count": 20,
      "outputs": [
        {
          "output_type": "execute_result",
          "data": {
            "text/plain": [
              "array([  2,  58,  10,  48,  10,  38, 899, 260, 124, 143])"
            ]
          },
          "metadata": {
            "tags": []
          },
          "execution_count": 20
        }
      ]
    },
    {
      "cell_type": "markdown",
      "metadata": {
        "id": "vF14Tinnmn75",
        "colab_type": "text"
      },
      "source": [
        "We'll set up our learner, *text_classifier_learner()* and load our encoded language learner from the previous section."
      ]
    },
    {
      "cell_type": "code",
      "metadata": {
        "id": "OtTSF9NDBJOD",
        "colab_type": "code",
        "colab": {}
      },
      "source": [
        "%%capture\n",
        "classifier = text_classifier_learner(data_clas, AWD_LSTM, drop_mult=0.5, metrics=[accuracy], callback_fns=[partial(EarlyStoppingCallback, monitor='valid_loss', min_delta=0.01, patience=3)])\n",
        "classifier.load_encoder('ft_enc')"
      ],
      "execution_count": 0,
      "outputs": []
    },
    {
      "cell_type": "markdown",
      "metadata": {
        "id": "cvg4omTjEP8t",
        "colab_type": "text"
      },
      "source": [
        "We can review our neural network by calling the *.model* method. We can see that the model is a **recursive neural network** meaning that it \"remembers\" previous cases when training on a given case. The first part of the model is the AWD_LSTM encoder that had been updated with our data along with a dropout layer. There are also hidden layers for weighted drop-out. \n",
        "\n",
        "The second part of the model is our classifier, which uses a ReLU activation function, batch-level normalizers, and two drop-out layers."
      ]
    },
    {
      "cell_type": "code",
      "metadata": {
        "id": "YwVsrKIKCT3L",
        "colab_type": "code",
        "outputId": "a8471fdf-4f40-4389-dd63-ed705c1c994c",
        "colab": {
          "base_uri": "https://localhost:8080/",
          "height": 663
        }
      },
      "source": [
        "classifier.model\n",
        "#classifier.summary() #NN summary"
      ],
      "execution_count": 22,
      "outputs": [
        {
          "output_type": "execute_result",
          "data": {
            "text/plain": [
              "SequentialRNN(\n",
              "  (0): MultiBatchEncoder(\n",
              "    (module): AWD_LSTM(\n",
              "      (encoder): Embedding(3344, 400, padding_idx=1)\n",
              "      (encoder_dp): EmbeddingDropout(\n",
              "        (emb): Embedding(3344, 400, padding_idx=1)\n",
              "      )\n",
              "      (rnns): ModuleList(\n",
              "        (0): WeightDropout(\n",
              "          (module): LSTM(400, 1152, batch_first=True)\n",
              "        )\n",
              "        (1): WeightDropout(\n",
              "          (module): LSTM(1152, 1152, batch_first=True)\n",
              "        )\n",
              "        (2): WeightDropout(\n",
              "          (module): LSTM(1152, 400, batch_first=True)\n",
              "        )\n",
              "      )\n",
              "      (input_dp): RNNDropout()\n",
              "      (hidden_dps): ModuleList(\n",
              "        (0): RNNDropout()\n",
              "        (1): RNNDropout()\n",
              "        (2): RNNDropout()\n",
              "      )\n",
              "    )\n",
              "  )\n",
              "  (1): PoolingLinearClassifier(\n",
              "    (layers): Sequential(\n",
              "      (0): BatchNorm1d(1200, eps=1e-05, momentum=0.1, affine=True, track_running_stats=True)\n",
              "      (1): Dropout(p=0.2, inplace=False)\n",
              "      (2): Linear(in_features=1200, out_features=50, bias=True)\n",
              "      (3): ReLU(inplace=True)\n",
              "      (4): BatchNorm1d(50, eps=1e-05, momentum=0.1, affine=True, track_running_stats=True)\n",
              "      (5): Dropout(p=0.1, inplace=False)\n",
              "      (6): Linear(in_features=50, out_features=2, bias=True)\n",
              "    )\n",
              "  )\n",
              ")"
            ]
          },
          "metadata": {
            "tags": []
          },
          "execution_count": 22
        }
      ]
    },
    {
      "cell_type": "markdown",
      "metadata": {
        "id": "LIyrC8fYnvfe",
        "colab_type": "text"
      },
      "source": [
        "Just like with the learning model, we begin by finding our max learning rate."
      ]
    },
    {
      "cell_type": "code",
      "metadata": {
        "id": "rGpd2iCD03ix",
        "colab_type": "code",
        "outputId": "88b1d9b5-80a5-452c-b88a-7744aabf20cb",
        "colab": {
          "base_uri": "https://localhost:8080/",
          "height": 330
        }
      },
      "source": [
        "classifier.lr_find() \n",
        "classifier.recorder.plot(suggestion=True)"
      ],
      "execution_count": 23,
      "outputs": [
        {
          "output_type": "display_data",
          "data": {
            "text/html": [
              ""
            ],
            "text/plain": [
              "<IPython.core.display.HTML object>"
            ]
          },
          "metadata": {
            "tags": []
          }
        },
        {
          "output_type": "stream",
          "text": [
            "LR Finder is complete, type {learner_name}.recorder.plot() to see the graph.\n",
            "Min numerical gradient: 1.00E-03\n",
            "Min loss divided by 10: 4.37E-02\n"
          ],
          "name": "stdout"
        },
        {
          "output_type": "display_data",
          "data": {
            "image/png": "[encoded data removed]",
            "text/plain": [
              "<Figure size 432x288 with 1 Axes>"
            ]
          },
          "metadata": {
            "tags": []
          }
        }
      ]
    },
    {
      "cell_type": "markdown",
      "metadata": {
        "id": "NNtFx0xIZO58",
        "colab_type": "text"
      },
      "source": [
        "***Now we're ready to train the classifier.*** All of the same rules around the hyperparameters apply, so we can move through this section more quickly."
      ]
    },
    {
      "cell_type": "code",
      "metadata": {
        "id": "ZWx0AplxCFyx",
        "colab_type": "code",
        "outputId": "b6fa677d-666c-4e52-b790-e80adef2cf3f",
        "colab": {
          "base_uri": "https://localhost:8080/",
          "height": 318
        }
      },
      "source": [
        "classifier.purge() #resets model. Use when testing various LR's and WD's\n",
        "classifier.fit_one_cycle(cyc_len = 20, max_lr = 1e-3, wd=1e-4, moms=(0.8, 0.7), callbacks = [SaveModelCallback(classifier, every='epoch', monitor='valid_loss')])"
      ],
      "execution_count": 0,
      "outputs": [
        {
          "output_type": "display_data",
          "data": {
            "text/html": [
              "\n",
              "    <div>\n",
              "        <style>\n",
              "            /* Turns off some styling */\n",
              "            progress {\n",
              "                /* gets rid of default border in Firefox and Opera. */\n",
              "                border: none;\n",
              "                /* Needs to be in here for Safari polyfill so background images work as expected. */\n",
              "                background-size: auto;\n",
              "            }\n",
              "            .progress-bar-interrupted, .progress-bar-interrupted::-webkit-progress-bar {\n",
              "                background: #F44336;\n",
              "            }\n",
              "        </style>\n",
              "      <progress value='7' class='' max='20', style='width:300px; height:20px; vertical-align: middle;'></progress>\n",
              "      35.00% [7/20 01:08<02:07]\n",
              "    </div>\n",
              "    \n",
              "<table border=\"1\" class=\"dataframe\">\n",
              "  <thead>\n",
              "    <tr style=\"text-align: left;\">\n",
              "      <th>epoch</th>\n",
              "      <th>train_loss</th>\n",
              "      <th>valid_loss</th>\n",
              "      <th>accuracy</th>\n",
              "      <th>time</th>\n",
              "    </tr>\n",
              "  </thead>\n",
              "  <tbody>\n",
              "    <tr>\n",
              "      <td>0</td>\n",
              "      <td>0.494309</td>\n",
              "      <td>0.528915</td>\n",
              "      <td>0.770642</td>\n",
              "      <td>00:09</td>\n",
              "    </tr>\n",
              "    <tr>\n",
              "      <td>1</td>\n",
              "      <td>0.520714</td>\n",
              "      <td>0.561179</td>\n",
              "      <td>0.754128</td>\n",
              "      <td>00:09</td>\n",
              "    </tr>\n",
              "    <tr>\n",
              "      <td>2</td>\n",
              "      <td>0.548399</td>\n",
              "      <td>0.646414</td>\n",
              "      <td>0.675229</td>\n",
              "      <td>00:09</td>\n",
              "    </tr>\n",
              "    <tr>\n",
              "      <td>3</td>\n",
              "      <td>0.548988</td>\n",
              "      <td>0.483441</td>\n",
              "      <td>0.776147</td>\n",
              "      <td>00:08</td>\n",
              "    </tr>\n",
              "    <tr>\n",
              "      <td>4</td>\n",
              "      <td>0.565085</td>\n",
              "      <td>0.608205</td>\n",
              "      <td>0.737615</td>\n",
              "      <td>00:09</td>\n",
              "    </tr>\n",
              "    <tr>\n",
              "      <td>5</td>\n",
              "      <td>0.573311</td>\n",
              "      <td>0.573727</td>\n",
              "      <td>0.724771</td>\n",
              "      <td>00:08</td>\n",
              "    </tr>\n",
              "    <tr>\n",
              "      <td>6</td>\n",
              "      <td>0.572394</td>\n",
              "      <td>0.551518</td>\n",
              "      <td>0.737615</td>\n",
              "      <td>00:09</td>\n",
              "    </tr>\n",
              "  </tbody>\n",
              "</table><p>\n",
              "\n",
              "    <div>\n",
              "        <style>\n",
              "            /* Turns off some styling */\n",
              "            progress {\n",
              "                /* gets rid of default border in Firefox and Opera. */\n",
              "                border: none;\n",
              "                /* Needs to be in here for Safari polyfill so background images work as expected. */\n",
              "                background-size: auto;\n",
              "            }\n",
              "            .progress-bar-interrupted, .progress-bar-interrupted::-webkit-progress-bar {\n",
              "                background: #F44336;\n",
              "            }\n",
              "        </style>\n",
              "      <progress value='9' class='' max='9', style='width:300px; height:20px; vertical-align: middle;'></progress>\n",
              "      100.00% [9/9 00:02<00:00]\n",
              "    </div>\n",
              "    "
            ],
            "text/plain": [
              "<IPython.core.display.HTML object>"
            ]
          },
          "metadata": {
            "tags": []
          }
        },
        {
          "output_type": "stream",
          "text": [
            "Epoch 7: early stopping\n"
          ],
          "name": "stdout"
        }
      ]
    },
    {
      "cell_type": "markdown",
      "metadata": {
        "id": "a34IR5DSD3Th",
        "colab_type": "text"
      },
      "source": [
        "Epoch 3 had the lowest *valid_loss**, so let's save this as our single-layer classifier."
      ]
    },
    {
      "cell_type": "code",
      "metadata": {
        "colab_type": "code",
        "id": "iG_KhOmgDoLW",
        "colab": {}
      },
      "source": [
        "%%capture\n",
        "classifier.load(\"bestmodel_3\") #.463\n",
        "classifier.save(\"classifier_one_layer\", return_path = False)"
      ],
      "execution_count": 0,
      "outputs": []
    },
    {
      "cell_type": "markdown",
      "metadata": {
        "id": "UdL2oOw9oW0O",
        "colab_type": "text"
      },
      "source": [
        "Unfreezing layers in the classifier.\n"
      ]
    },
    {
      "cell_type": "code",
      "metadata": {
        "id": "RmsG7yTQhY4f",
        "colab_type": "code",
        "outputId": "52aff0a1-56a7-4954-d604-7c03e647a654",
        "colab": {
          "base_uri": "https://localhost:8080/",
          "height": 422
        }
      },
      "source": [
        "classifier.unfreeze()\n",
        "classifier.fit_one_cycle(20, slice(1e-5, 1e-1), wd=1e-4, moms=(0.8, 0.7), callbacks = [SaveModelCallback(classifier, every='epoch', monitor='valid_loss')])"
      ],
      "execution_count": 24,
      "outputs": [
        {
          "output_type": "display_data",
          "data": {
            "text/html": [
              "\n",
              "    <div>\n",
              "        <style>\n",
              "            /* Turns off some styling */\n",
              "            progress {\n",
              "                /* gets rid of default border in Firefox and Opera. */\n",
              "                border: none;\n",
              "                /* Needs to be in here for Safari polyfill so background images work as expected. */\n",
              "                background-size: auto;\n",
              "            }\n",
              "            .progress-bar-interrupted, .progress-bar-interrupted::-webkit-progress-bar {\n",
              "                background: #F44336;\n",
              "            }\n",
              "        </style>\n",
              "      <progress value='10' class='' max='20', style='width:300px; height:20px; vertical-align: middle;'></progress>\n",
              "      50.00% [10/20 03:48<03:48]\n",
              "    </div>\n",
              "    \n",
              "<table border=\"1\" class=\"dataframe\">\n",
              "  <thead>\n",
              "    <tr style=\"text-align: left;\">\n",
              "      <th>epoch</th>\n",
              "      <th>train_loss</th>\n",
              "      <th>valid_loss</th>\n",
              "      <th>accuracy</th>\n",
              "      <th>time</th>\n",
              "    </tr>\n",
              "  </thead>\n",
              "  <tbody>\n",
              "    <tr>\n",
              "      <td>0</td>\n",
              "      <td>0.596623</td>\n",
              "      <td>0.501437</td>\n",
              "      <td>0.774312</td>\n",
              "      <td>00:21</td>\n",
              "    </tr>\n",
              "    <tr>\n",
              "      <td>1</td>\n",
              "      <td>0.545063</td>\n",
              "      <td>0.592956</td>\n",
              "      <td>0.748624</td>\n",
              "      <td>00:23</td>\n",
              "    </tr>\n",
              "    <tr>\n",
              "      <td>2</td>\n",
              "      <td>0.535843</td>\n",
              "      <td>0.475313</td>\n",
              "      <td>0.788991</td>\n",
              "      <td>00:22</td>\n",
              "    </tr>\n",
              "    <tr>\n",
              "      <td>3</td>\n",
              "      <td>0.509859</td>\n",
              "      <td>0.461358</td>\n",
              "      <td>0.807339</td>\n",
              "      <td>00:21</td>\n",
              "    </tr>\n",
              "    <tr>\n",
              "      <td>4</td>\n",
              "      <td>0.486546</td>\n",
              "      <td>0.529811</td>\n",
              "      <td>0.794495</td>\n",
              "      <td>00:22</td>\n",
              "    </tr>\n",
              "    <tr>\n",
              "      <td>5</td>\n",
              "      <td>0.457801</td>\n",
              "      <td>0.470848</td>\n",
              "      <td>0.792661</td>\n",
              "      <td>00:22</td>\n",
              "    </tr>\n",
              "    <tr>\n",
              "      <td>6</td>\n",
              "      <td>0.439016</td>\n",
              "      <td>0.437326</td>\n",
              "      <td>0.787156</td>\n",
              "      <td>00:20</td>\n",
              "    </tr>\n",
              "    <tr>\n",
              "      <td>7</td>\n",
              "      <td>0.380786</td>\n",
              "      <td>0.605942</td>\n",
              "      <td>0.798165</td>\n",
              "      <td>00:21</td>\n",
              "    </tr>\n",
              "    <tr>\n",
              "      <td>8</td>\n",
              "      <td>0.329045</td>\n",
              "      <td>0.831137</td>\n",
              "      <td>0.788991</td>\n",
              "      <td>00:20</td>\n",
              "    </tr>\n",
              "    <tr>\n",
              "      <td>9</td>\n",
              "      <td>0.284055</td>\n",
              "      <td>0.930187</td>\n",
              "      <td>0.788991</td>\n",
              "      <td>00:20</td>\n",
              "    </tr>\n",
              "  </tbody>\n",
              "</table><p>\n",
              "\n",
              "    <div>\n",
              "        <style>\n",
              "            /* Turns off some styling */\n",
              "            progress {\n",
              "                /* gets rid of default border in Firefox and Opera. */\n",
              "                border: none;\n",
              "                /* Needs to be in here for Safari polyfill so background images work as expected. */\n",
              "                background-size: auto;\n",
              "            }\n",
              "            .progress-bar-interrupted, .progress-bar-interrupted::-webkit-progress-bar {\n",
              "                background: #F44336;\n",
              "            }\n",
              "        </style>\n",
              "      <progress value='9' class='' max='9', style='width:300px; height:20px; vertical-align: middle;'></progress>\n",
              "      100.00% [9/9 00:01<00:00]\n",
              "    </div>\n",
              "    "
            ],
            "text/plain": [
              "<IPython.core.display.HTML object>"
            ]
          },
          "metadata": {
            "tags": []
          }
        },
        {
          "output_type": "stream",
          "text": [
            "Epoch 10: early stopping\n"
          ],
          "name": "stdout"
        }
      ]
    },
    {
      "cell_type": "markdown",
      "metadata": {
        "id": "Sr5N49gWjxkN",
        "colab_type": "text"
      },
      "source": [
        "We had the lowest *valid_loss* with the multi-layer model, particularly epoch 6. Therefore let's reload and test the performance of this model."
      ]
    },
    {
      "cell_type": "code",
      "metadata": {
        "id": "f6cigsPgFuMg",
        "colab_type": "code",
        "colab": {}
      },
      "source": [
        "%%capture\n",
        "classifier.load(\"bestmodel_6\")\n",
        "classifier.save(\"classifier_multi_layer\", return_path = False) #save previous run"
      ],
      "execution_count": 0,
      "outputs": []
    },
    {
      "cell_type": "markdown",
      "metadata": {
        "colab_type": "text",
        "id": "2vK7Ne-kwLhJ"
      },
      "source": [
        "We'll also export the classifier model for production purposes."
      ]
    },
    {
      "cell_type": "code",
      "metadata": {
        "colab_type": "code",
        "id": "Q1df4DpVwLhL",
        "colab": {}
      },
      "source": [
        "classifier.export('classifier_model.pkl')"
      ],
      "execution_count": 0,
      "outputs": []
    },
    {
      "cell_type": "markdown",
      "metadata": {
        "id": "dkLviTRM_DeT",
        "colab_type": "text"
      },
      "source": [
        "# Model Performance"
      ]
    },
    {
      "cell_type": "code",
      "metadata": {
        "id": "tMXyczP0B99V",
        "colab_type": "code",
        "outputId": "08510a0b-1586-41bc-ec98-21d56b4b5e25",
        "colab": {
          "base_uri": "https://localhost:8080/",
          "height": 311
        }
      },
      "source": [
        "from fastai.vision import *\n",
        "preds,y,losses = classifier.get_preds(with_loss=True)\n",
        "interp = TextClassificationInterpretation(classifier, preds, y, losses)\n",
        "interp.plot_confusion_matrix()"
      ],
      "execution_count": 26,
      "outputs": [
        {
          "output_type": "display_data",
          "data": {
            "text/html": [
              ""
            ],
            "text/plain": [
              "<IPython.core.display.HTML object>"
            ]
          },
          "metadata": {
            "tags": []
          }
        },
        {
          "output_type": "display_data",
          "data": {
            "image/png": "[encoded data removed]",
            "text/plain": [
              "<Figure size 432x288 with 1 Axes>"
            ]
          },
          "metadata": {
            "tags": []
          }
        }
      ]
    },
    {
      "cell_type": "markdown",
      "metadata": {
        "id": "lPpA-rsBga9i",
        "colab_type": "text"
      },
      "source": [
        "Given the class imbalance, the sensitivity and specificity can be improved by adjusting the thresholds on the confusion matrix, or we can just build an ROC curve."
      ]
    },
    {
      "cell_type": "code",
      "metadata": {
        "id": "2bmPnmJlgQzS",
        "colab_type": "code",
        "colab": {}
      },
      "source": [
        "from sklearn import metrics\n",
        "dataframe = preds.numpy()\n",
        "dataframe = pd.DataFrame(dataframe)\n",
        "string = dataframe.iloc[:,0]\n",
        "probs = string.to_numpy()\n",
        "actual = y.numpy()\n",
        "fpr, tpr, thresholds = metrics.roc_curve(actual, probs)\n",
        "roc_auc = metrics.auc(fpr, tpr)\n",
        "roc_auc = 1-roc_auc #had to do this..."
      ],
      "execution_count": 0,
      "outputs": []
    },
    {
      "cell_type": "code",
      "metadata": {
        "id": "w_sMeMqep59c",
        "colab_type": "code",
        "outputId": "af73e5ac-de10-411e-ab98-3e38f78b55d1",
        "colab": {
          "base_uri": "https://localhost:8080/",
          "height": 295
        }
      },
      "source": [
        "import matplotlib.pyplot as plt\n",
        "plt.title('Receiver Operating Characteristic')\n",
        "plt.plot(tpr, fpr, 'b', label = 'AUC = %0.2f' % roc_auc) #switched tpr and fpr...\n",
        "plt.legend(loc = 'lower right')\n",
        "plt.plot([0, 1], [0, 1],'r--')\n",
        "plt.xlim([0, 1])\n",
        "plt.ylim([0, 1])\n",
        "plt.ylabel('True Positive Rate')\n",
        "plt.xlabel('False Positive Rate')\n",
        "plt.show()"
      ],
      "execution_count": 28,
      "outputs": [
        {
          "output_type": "display_data",
          "data": {
            "image/png": "[encoded data removed]",
            "text/plain": [
              "<Figure size 432x288 with 1 Axes>"
            ]
          },
          "metadata": {
            "tags": []
          }
        }
      ]
    },
    {
      "cell_type": "markdown",
      "metadata": {
        "id": "A7BqcHLTZqAU",
        "colab_type": "text"
      },
      "source": [
        "Now we can use the model to predict whether a sale will be made based on *any* input text."
      ]
    },
    {
      "cell_type": "code",
      "metadata": {
        "id": "Cqlc3KexCslc",
        "colab_type": "code",
        "outputId": "9ac85f10-d051-4046-fe22-ed8a23f3a333",
        "colab": {
          "base_uri": "https://localhost:8080/",
          "height": 34
        }
      },
      "source": [
        "classifier.predict(\"interested in ductwork friend of Patty's SOLD SOLD SOLD heard us on radio\")"
      ],
      "execution_count": 29,
      "outputs": [
        {
          "output_type": "execute_result",
          "data": {
            "text/plain": [
              "(Category positive, tensor(1), tensor([0.0136, 0.9864]))"
            ]
          },
          "metadata": {
            "tags": []
          },
          "execution_count": 29
        }
      ]
    }
  ]
}